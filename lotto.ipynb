{
 "cells": [
  {
   "cell_type": "code",
   "execution_count": 1,
   "metadata": {},
   "outputs": [],
   "source": [
    "import pandas as pd\n",
    "import requests\n",
    "from bs4 import BeautifulSoup"
   ]
  },
  {
   "cell_type": "code",
   "execution_count": 2,
   "metadata": {},
   "outputs": [],
   "source": [
    "r = requests.get(\"https://www.myhora.com/%E0%B8%AB%E0%B8%A7%E0%B8%A2/%e0%b8%aa%e0%b8%96%e0%b8%b4%e0%b8%95%e0%b8%b4%e0%b8%ab%e0%b8%a7%e0%b8%a2-%e0%b8%a2%e0%b9%89%e0%b8%ad%e0%b8%99%e0%b8%ab%e0%b8%a5%e0%b8%b1%e0%b8%87-31-%e0%b8%9b%e0%b8%b5.aspx?mode=year-range&value=31\")"
   ]
  },
  {
   "cell_type": "code",
   "execution_count": 3,
   "metadata": {},
   "outputs": [
    {
     "data": {
      "text/plain": [
       "'<!DOCTYPE html PUBLIC \"-//W3C//DTD XHTML 1.0 Transitional//EN\" \"http://www.w3.org/TR/xhtml1/DTD/xhtml1-transitional.dtd\">\\r\\n\\r\\n<html xmlns=\"http://www.w3.org/1999/xhtml\"><head>\\r\\n<title>สถิติหวยออกย้อนหล'"
      ]
     },
     "execution_count": 3,
     "metadata": {},
     "output_type": "execute_result"
    }
   ],
   "source": [
    "r.text[:200]"
   ]
  },
  {
   "cell_type": "code",
   "execution_count": 4,
   "metadata": {},
   "outputs": [],
   "source": [
    "s = BeautifulSoup(r.text, 'lxml')"
   ]
  },
  {
   "cell_type": "code",
   "execution_count": 5,
   "metadata": {},
   "outputs": [],
   "source": [
    "data = []\n",
    "table = s.find('table', {\"id\" : \"dl_lottery_stats_list\"})\n",
    "table_body = table.find('tbody')"
   ]
  },
  {
   "cell_type": "code",
   "execution_count": 6,
   "metadata": {},
   "outputs": [],
   "source": [
    "rows = table.find_all('td')\n",
    "for row in rows:\n",
    "    cols = row.find_all('div')\n",
    "    cols = [ele.text.strip() for ele in cols]\n",
    "    data.append([ele for ele in cols if ele]) # Get rid of empty values"
   ]
  },
  {
   "cell_type": "code",
   "execution_count": 7,
   "metadata": {},
   "outputs": [],
   "source": [
    "df = pd.DataFrame(data)"
   ]
  },
  {
   "cell_type": "code",
   "execution_count": 8,
   "metadata": {},
   "outputs": [],
   "source": [
    "edit_df = df.loc[:, [1, 2, 4, 6, 9, 10]]"
   ]
  },
  {
   "cell_type": "code",
   "execution_count": 9,
   "metadata": {},
   "outputs": [
    {
     "data": {
      "text/html": [
       "<div>\n",
       "<style scoped>\n",
       "    .dataframe tbody tr th:only-of-type {\n",
       "        vertical-align: middle;\n",
       "    }\n",
       "\n",
       "    .dataframe tbody tr th {\n",
       "        vertical-align: top;\n",
       "    }\n",
       "\n",
       "    .dataframe thead th {\n",
       "        text-align: right;\n",
       "    }\n",
       "</style>\n",
       "<table border=\"1\" class=\"dataframe\">\n",
       "  <thead>\n",
       "    <tr style=\"text-align: right;\">\n",
       "      <th></th>\n",
       "      <th>1</th>\n",
       "      <th>2</th>\n",
       "      <th>4</th>\n",
       "      <th>6</th>\n",
       "      <th>9</th>\n",
       "      <th>10</th>\n",
       "    </tr>\n",
       "  </thead>\n",
       "  <tbody>\n",
       "    <tr>\n",
       "      <th>0</th>\n",
       "      <td>1</td>\n",
       "      <td>พฤศจิกายน</td>\n",
       "      <td>2564</td>\n",
       "      <td>045037</td>\n",
       "      <td>95</td>\n",
       "      <td>247 458 331 755</td>\n",
       "    </tr>\n",
       "    <tr>\n",
       "      <th>1</th>\n",
       "      <td>16</td>\n",
       "      <td>ตุลาคม</td>\n",
       "      <td>2564</td>\n",
       "      <td>386372</td>\n",
       "      <td>38</td>\n",
       "      <td>602 964 295 798</td>\n",
       "    </tr>\n",
       "    <tr>\n",
       "      <th>2</th>\n",
       "      <td>1</td>\n",
       "      <td>ตุลาคม</td>\n",
       "      <td>2564</td>\n",
       "      <td>578171</td>\n",
       "      <td>83</td>\n",
       "      <td>285 361 379 449</td>\n",
       "    </tr>\n",
       "    <tr>\n",
       "      <th>3</th>\n",
       "      <td>16</td>\n",
       "      <td>กันยายน</td>\n",
       "      <td>2564</td>\n",
       "      <td>070935</td>\n",
       "      <td>90</td>\n",
       "      <td>609 817 007 379</td>\n",
       "    </tr>\n",
       "    <tr>\n",
       "      <th>4</th>\n",
       "      <td>1</td>\n",
       "      <td>กันยายน</td>\n",
       "      <td>2564</td>\n",
       "      <td>114475</td>\n",
       "      <td>79</td>\n",
       "      <td>278 302 123 458</td>\n",
       "    </tr>\n",
       "    <tr>\n",
       "      <th>...</th>\n",
       "      <td>...</td>\n",
       "      <td>...</td>\n",
       "      <td>...</td>\n",
       "      <td>...</td>\n",
       "      <td>...</td>\n",
       "      <td>...</td>\n",
       "    </tr>\n",
       "    <tr>\n",
       "      <th>739</th>\n",
       "      <td>1</td>\n",
       "      <td>ธันวาคม</td>\n",
       "      <td>2533</td>\n",
       "      <td>4771944</td>\n",
       "      <td>88</td>\n",
       "      <td>237 586 692 444</td>\n",
       "    </tr>\n",
       "    <tr>\n",
       "      <th>740</th>\n",
       "      <td>16</td>\n",
       "      <td>พฤศจิกายน</td>\n",
       "      <td>2533</td>\n",
       "      <td>1226536</td>\n",
       "      <td>06</td>\n",
       "      <td>426 020 721 050</td>\n",
       "    </tr>\n",
       "    <tr>\n",
       "      <th>741</th>\n",
       "      <td>1</td>\n",
       "      <td>พฤศจิกายน</td>\n",
       "      <td>2533</td>\n",
       "      <td>4380230</td>\n",
       "      <td>82</td>\n",
       "      <td>694 516 619 829</td>\n",
       "    </tr>\n",
       "    <tr>\n",
       "      <th>742</th>\n",
       "      <td>16</td>\n",
       "      <td>ตุลาคม</td>\n",
       "      <td>2533</td>\n",
       "      <td>5626303</td>\n",
       "      <td>56</td>\n",
       "      <td>351 928 923 431</td>\n",
       "    </tr>\n",
       "    <tr>\n",
       "      <th>743</th>\n",
       "      <td>1</td>\n",
       "      <td>ตุลาคม</td>\n",
       "      <td>2533</td>\n",
       "      <td>5738808</td>\n",
       "      <td>37</td>\n",
       "      <td>043 977 058 748</td>\n",
       "    </tr>\n",
       "  </tbody>\n",
       "</table>\n",
       "<p>744 rows × 6 columns</p>\n",
       "</div>"
      ],
      "text/plain": [
       "     1          2     4        6   9                10\n",
       "0     1  พฤศจิกายน  2564   045037  95  247 458 331 755\n",
       "1    16     ตุลาคม  2564   386372  38  602 964 295 798\n",
       "2     1     ตุลาคม  2564   578171  83  285 361 379 449\n",
       "3    16    กันยายน  2564   070935  90  609 817 007 379\n",
       "4     1    กันยายน  2564   114475  79  278 302 123 458\n",
       "..   ..        ...   ...      ...  ..              ...\n",
       "739   1    ธันวาคม  2533  4771944  88  237 586 692 444\n",
       "740  16  พฤศจิกายน  2533  1226536  06  426 020 721 050\n",
       "741   1  พฤศจิกายน  2533  4380230  82  694 516 619 829\n",
       "742  16     ตุลาคม  2533  5626303  56  351 928 923 431\n",
       "743   1     ตุลาคม  2533  5738808  37  043 977 058 748\n",
       "\n",
       "[744 rows x 6 columns]"
      ]
     },
     "execution_count": 9,
     "metadata": {},
     "output_type": "execute_result"
    }
   ],
   "source": [
    "edit_df"
   ]
  },
  {
   "cell_type": "code",
   "execution_count": 10,
   "metadata": {},
   "outputs": [
    {
     "name": "stdout",
     "output_type": "stream",
     "text": [
      "<class 'pandas.core.frame.DataFrame'>\n",
      "RangeIndex: 744 entries, 0 to 743\n",
      "Data columns (total 6 columns):\n",
      " #   Column  Non-Null Count  Dtype \n",
      "---  ------  --------------  ----- \n",
      " 0   1       744 non-null    object\n",
      " 1   2       744 non-null    object\n",
      " 2   4       744 non-null    object\n",
      " 3   6       744 non-null    object\n",
      " 4   9       744 non-null    object\n",
      " 5   10      744 non-null    object\n",
      "dtypes: object(6)\n",
      "memory usage: 35.0+ KB\n"
     ]
    }
   ],
   "source": [
    "edit_df.info()"
   ]
  },
  {
   "cell_type": "code",
   "execution_count": null,
   "metadata": {},
   "outputs": [],
   "source": []
  }
 ],
 "metadata": {
  "interpreter": {
   "hash": "52b898a3bbc83114ccc51c5003633852abac727101b1d69348a7ac92b1dd7071"
  },
  "kernelspec": {
   "display_name": "Python 3.9.5 64-bit ('py395': conda)",
   "name": "python3"
  },
  "language_info": {
   "codemirror_mode": {
    "name": "ipython",
    "version": 3
   },
   "file_extension": ".py",
   "mimetype": "text/x-python",
   "name": "python",
   "nbconvert_exporter": "python",
   "pygments_lexer": "ipython3",
   "version": "3.9.5"
  },
  "orig_nbformat": 4
 },
 "nbformat": 4,
 "nbformat_minor": 2
}
